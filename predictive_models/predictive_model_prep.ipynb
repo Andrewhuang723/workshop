{
 "cells": [
  {
   "cell_type": "markdown",
   "metadata": {},
   "source": [
    "### Prepare the Dataset for Building a Predictive Model\n",
    "\n",
    "As a first step we will build a graph convolution model predict ERK2 activity.  We will train the model to distinguish a set of ERK2 active compounds from a set of decoy compounds.  The active and decoy compounds are derived from the DUD-E database. In order to generate the best model, we would like to decoys with property distributions similar to those of our active compounds.  Let's say this was not the case and the inactive compounds had lower molecular weight than the active compounds.  In this case our classifer may be trained to simply separate low molecular compounds from \n",
    "high molecular weight compounds.  This classifer will have very limited utility in preactice. \n",
    "\n",
    "As a first step, we will examine a few calculated properties of our active and decoy molecules.  In order to build a reliable model, we need to ensure that the properties of the active molecules are similar to those of the decoy molecules. \n",
    "\n",
    "First lets import the libraries we will need. "
   ]
  },
  {
   "cell_type": "code",
   "execution_count": 1,
   "metadata": {},
   "outputs": [],
   "source": [
    "from rdkit import Chem\n",
    "from rdkit.Chem import Draw\n",
    "from rdkit.Chem.Draw import IPythonConsole\n",
    "import pandas as pd\n",
    "from rdkit.Chem import PandasTools\n",
    "from rdkit.Chem import Descriptors\n",
    "from rdkit.Chem import rdmolops\n",
    "import seaborn as sns"
   ]
  },
  {
   "cell_type": "markdown",
   "metadata": {},
   "source": [
    "Now we can read a SMILES file into a Pandas dataframe and add an RDKit molecule to the dataframe."
   ]
  },
  {
   "cell_type": "code",
   "execution_count": 2,
   "metadata": {},
   "outputs": [],
   "source": [
    "active_df = pd.read_csv(\"mk01/actives_final.ism\",header=None,sep=\" \")\n",
    "active_rows,active_cols = active_df.shape\n",
    "active_df.columns = [\"SMILES\",\"ID\",\"ChEMBL_ID\"]\n",
    "active_df[\"label\"] = [\"Active\"]*active_rows\n",
    "PandasTools.AddMoleculeColumnToFrame(active_df,\"SMILES\",\"Mol\")\n"
   ]
  },
  {
   "cell_type": "markdown",
   "metadata": {},
   "source": [
    "Let's define a function to add caculated properties to a dataframe"
   ]
  },
  {
   "cell_type": "code",
   "execution_count": 3,
   "metadata": {},
   "outputs": [],
   "source": [
    "def add_property_columns_to_df(df_in):\n",
    "    df_in[\"mw\"] = [Descriptors.MolWt(mol) for mol in df_in.Mol]\n",
    "    df_in[\"logP\"] = [Descriptors.MolLogP(mol) for mol in df_in.Mol]\n",
    "    df_in[\"charge\"] = [rdmolops.GetFormalCharge(mol) for mol in df_in.Mol]"
   ]
  },
  {
   "cell_type": "markdown",
   "metadata": {},
   "source": [
    "With this function in hand, we can calculate the molecular weight, LogP and formal charge of the molecules.  Once we have these properties we can compare the distributions for the active and decoy sets. "
   ]
  },
  {
   "cell_type": "code",
   "execution_count": 4,
   "metadata": {},
   "outputs": [],
   "source": [
    "add_property_columns_to_df(active_df)"
   ]
  },
  {
   "cell_type": "markdown",
   "metadata": {},
   "source": [
    "Let's look at the frist few rows of our dataframe to ensure that it makes sense."
   ]
  },
  {
   "cell_type": "code",
   "execution_count": 5,
   "metadata": {},
   "outputs": [
    {
     "data": {
      "text/html": [
       "<div>\n",
       "<style scoped>\n",
       "    .dataframe tbody tr th:only-of-type {\n",
       "        vertical-align: middle;\n",
       "    }\n",
       "\n",
       "    .dataframe tbody tr th {\n",
       "        vertical-align: top;\n",
       "    }\n",
       "\n",
       "    .dataframe thead th {\n",
       "        text-align: right;\n",
       "    }\n",
       "</style>\n",
       "<table border=\"1\" class=\"dataframe\">\n",
       "  <thead>\n",
       "    <tr style=\"text-align: right;\">\n",
       "      <th></th>\n",
       "      <th>SMILES</th>\n",
       "      <th>ID</th>\n",
       "      <th>ChEMBL_ID</th>\n",
       "      <th>label</th>\n",
       "      <th>Mol</th>\n",
       "      <th>mw</th>\n",
       "      <th>logP</th>\n",
       "      <th>charge</th>\n",
       "    </tr>\n",
       "  </thead>\n",
       "  <tbody>\n",
       "    <tr>\n",
       "      <td>0</td>\n",
       "      <td>Cn1ccnc1Sc2ccc(cc2Cl)Nc3c4cc(c(cc4ncc3C#N)OCCC...</td>\n",
       "      <td>168691</td>\n",
       "      <td>CHEMBL318804</td>\n",
       "      <td>Active</td>\n",
       "      <td>&lt;img src=\"data:image/png;base64,iVBORw0KGgoAAA...</td>\n",
       "      <td>565.099</td>\n",
       "      <td>5.49788</td>\n",
       "      <td>0</td>\n",
       "    </tr>\n",
       "    <tr>\n",
       "      <td>1</td>\n",
       "      <td>C[C@@]12[C@@H]([C@@H](CC(O1)n3c4ccccc4c5c3c6n2...</td>\n",
       "      <td>86358</td>\n",
       "      <td>CHEMBL162</td>\n",
       "      <td>Active</td>\n",
       "      <td>&lt;img src=\"data:image/png;base64,iVBORw0KGgoAAA...</td>\n",
       "      <td>466.541</td>\n",
       "      <td>4.35400</td>\n",
       "      <td>0</td>\n",
       "    </tr>\n",
       "    <tr>\n",
       "      <td>2</td>\n",
       "      <td>Cc1cnc(nc1c2cc([nH]c2)C(=O)N[C@H](CO)c3cccc(c3...</td>\n",
       "      <td>575087</td>\n",
       "      <td>CHEMBL576683</td>\n",
       "      <td>Active</td>\n",
       "      <td>&lt;img src=\"data:image/png;base64,iVBORw0KGgoAAA...</td>\n",
       "      <td>527.915</td>\n",
       "      <td>4.96202</td>\n",
       "      <td>0</td>\n",
       "    </tr>\n",
       "    <tr>\n",
       "      <td>3</td>\n",
       "      <td>Cc1cnc(nc1c2cc([nH]c2)C(=O)N[C@H](CO)c3cccc(c3...</td>\n",
       "      <td>575065</td>\n",
       "      <td>CHEMBL571484</td>\n",
       "      <td>Active</td>\n",
       "      <td>&lt;img src=\"data:image/png;base64,iVBORw0KGgoAAA...</td>\n",
       "      <td>491.935</td>\n",
       "      <td>4.36922</td>\n",
       "      <td>0</td>\n",
       "    </tr>\n",
       "    <tr>\n",
       "      <td>4</td>\n",
       "      <td>Cc1cnc(nc1c2cc([nH]c2)C(=O)N[C@H](CO)c3cccc(c3...</td>\n",
       "      <td>575047</td>\n",
       "      <td>CHEMBL568937</td>\n",
       "      <td>Active</td>\n",
       "      <td>&lt;img src=\"data:image/png;base64,iVBORw0KGgoAAA...</td>\n",
       "      <td>487.991</td>\n",
       "      <td>5.12922</td>\n",
       "      <td>0</td>\n",
       "    </tr>\n",
       "  </tbody>\n",
       "</table>\n",
       "</div>"
      ],
      "text/plain": [
       "                                              SMILES      ID     ChEMBL_ID  \\\n",
       "0  Cn1ccnc1Sc2ccc(cc2Cl)Nc3c4cc(c(cc4ncc3C#N)OCCC...  168691  CHEMBL318804   \n",
       "1  C[C@@]12[C@@H]([C@@H](CC(O1)n3c4ccccc4c5c3c6n2...   86358     CHEMBL162   \n",
       "2  Cc1cnc(nc1c2cc([nH]c2)C(=O)N[C@H](CO)c3cccc(c3...  575087  CHEMBL576683   \n",
       "3  Cc1cnc(nc1c2cc([nH]c2)C(=O)N[C@H](CO)c3cccc(c3...  575065  CHEMBL571484   \n",
       "4  Cc1cnc(nc1c2cc([nH]c2)C(=O)N[C@H](CO)c3cccc(c3...  575047  CHEMBL568937   \n",
       "\n",
       "    label                                                Mol       mw  \\\n",
       "0  Active  <img src=\"data:image/png;base64,iVBORw0KGgoAAA...  565.099   \n",
       "1  Active  <img src=\"data:image/png;base64,iVBORw0KGgoAAA...  466.541   \n",
       "2  Active  <img src=\"data:image/png;base64,iVBORw0KGgoAAA...  527.915   \n",
       "3  Active  <img src=\"data:image/png;base64,iVBORw0KGgoAAA...  491.935   \n",
       "4  Active  <img src=\"data:image/png;base64,iVBORw0KGgoAAA...  487.991   \n",
       "\n",
       "      logP  charge  \n",
       "0  5.49788       0  \n",
       "1  4.35400       0  \n",
       "2  4.96202       0  \n",
       "3  4.36922       0  \n",
       "4  5.12922       0  "
      ]
     },
     "execution_count": 5,
     "metadata": {},
     "output_type": "execute_result"
    }
   ],
   "source": [
    "active_df.head()"
   ]
  },
  {
   "cell_type": "markdown",
   "metadata": {},
   "source": [
    "Now let's do the same thing with the decoy molecules"
   ]
  },
  {
   "cell_type": "code",
   "execution_count": 6,
   "metadata": {},
   "outputs": [],
   "source": [
    "decoy_df = pd.read_csv(\"mk01/decoys_final.ism\",header=None,sep=\" \")\n",
    "decoy_df.columns = [\"SMILES\",\"ID\"]\n",
    "decoy_rows, decoy_cols = decoy_df.shape\n",
    "decoy_df[\"label\"] = [\"Decoy\"]*decoy_rows\n",
    "PandasTools.AddMoleculeColumnToFrame(decoy_df,\"SMILES\",\"Mol\")\n",
    "add_property_columns_to_df(decoy_df)"
   ]
  },
  {
   "cell_type": "code",
   "execution_count": 7,
   "metadata": {},
   "outputs": [],
   "source": [
    "tmp_df = active_df.append(decoy_df,sort=False)"
   ]
  },
  {
   "cell_type": "markdown",
   "metadata": {},
   "source": [
    "With properties calculated for both the active and the decoy sets, we can compare the properties of the two compound sets. To do the comparison, we will use violin plots.  A violin plot can be thought of as analogous to a boxplot.  The violin plot provides a mirrored, horizontal view of a frequency distribution.  Ideally, we would \n",
    "like to see similar distributions for the active and decoy sets."
   ]
  },
  {
   "cell_type": "code",
   "execution_count": 8,
   "metadata": {},
   "outputs": [
    {
     "data": {
      "text/plain": [
       "<matplotlib.axes._subplots.AxesSubplot at 0x7f47051c9350>"
      ]
     },
     "execution_count": 8,
     "metadata": {},
     "output_type": "execute_result"
    },
    {
     "data": {
      "image/png": "[encoded data removed]",
      "text/plain": [
       "<Figure size 432x288 with 1 Axes>"
      ]
     },
     "metadata": {
      "needs_background": "light"
     },
     "output_type": "display_data"
    }
   ],
   "source": [
    "sns.violinplot(tmp_df[\"label\"],tmp_df[\"mw\"])"
   ]
  },
  {
   "cell_type": "markdown",
   "metadata": {},
   "source": [
    "An examination of the distributions in the figures above show that the molecular weight distributions for the two sets\n",
    "are roughly equivalent.  The decoy set has more low molecular weight molecules, but the center of the distribution, show as a box in the middle of each violin plot is in a similar location in both plots. "
   ]
  },
  {
   "cell_type": "markdown",
   "metadata": {},
   "source": [
    "We can use violin plots to perform a similar comparison of the LogP distributions.  Again, we can see that the \n",
    "distributions are similar with a few more decoys at the lower end of the distribution. "
   ]
  },
  {
   "cell_type": "code",
   "execution_count": 9,
   "metadata": {},
   "outputs": [
    {
     "data": {
      "text/plain": [
       "<matplotlib.axes._subplots.AxesSubplot at 0x7f4703c25a90>"
      ]
     },
     "execution_count": 9,
     "metadata": {},
     "output_type": "execute_result"
    },
    {
     "data": {
      "image/png": "[encoded data removed]",
      "text/plain": [
       "<Figure size 432x288 with 1 Axes>"
      ]
     },
     "metadata": {
      "needs_background": "light"
     },
     "output_type": "display_data"
    }
   ],
   "source": [
    "sns.violinplot(tmp_df[\"label\"],tmp_df[\"logP\"])"
   ]
  },
  {
   "cell_type": "markdown",
   "metadata": {},
   "source": [
    "Finally, we will do the same comparison with the formal charges of the molecules.  "
   ]
  },
  {
   "cell_type": "code",
   "execution_count": 10,
   "metadata": {},
   "outputs": [
    {
     "data": {
      "text/plain": [
       "<matplotlib.axes._subplots.AxesSubplot at 0x7f4703c1b910>"
      ]
     },
     "execution_count": 10,
     "metadata": {},
     "output_type": "execute_result"
    },
    {
     "data": {
      "image/png": "[encoded data removed]",
      "text/plain": [
       "<Figure size 432x288 with 1 Axes>"
      ]
     },
     "metadata": {
      "needs_background": "light"
     },
     "output_type": "display_data"
    }
   ],
   "source": [
    "sns.violinplot(tmp_df[\"label\"],tmp_df[\"charge\"])"
   ]
  },
  {
   "cell_type": "markdown",
   "metadata": {},
   "source": [
    "In this case, we see a signficant difference.  All of the active molecules are neutral, while some of the decoys \n",
    "are charged. Let see what fraction of the decoy molecules are charged. We can do this by creating a new dataframe\n",
    "with just the charged molecules."
   ]
  },
  {
   "cell_type": "code",
   "execution_count": 11,
   "metadata": {},
   "outputs": [],
   "source": [
    "charged = decoy_df[decoy_df[\"charge\"] != 0]"
   ]
  },
  {
   "cell_type": "markdown",
   "metadata": {},
   "source": [
    "A pandas dataframe has a property, shape, that returns the number of rows and columns in the dataframe. As such,\n",
    "element[0] in the shape property will be the number of rows.  Let's divide the number of rows in our dataframe of \n",
    "charged molecules by the total number of rows in the decoy dataframe."
   ]
  },
  {
   "cell_type": "code",
   "execution_count": 12,
   "metadata": {},
   "outputs": [
    {
     "data": {
      "text/plain": [
       "0.16175824175824177"
      ]
     },
     "execution_count": 12,
     "metadata": {},
     "output_type": "execute_result"
    }
   ],
   "source": [
    "charged.shape[0]/decoy_df.shape[0]"
   ]
  },
  {
   "cell_type": "markdown",
   "metadata": {},
   "source": [
    "The fact that 16% of the decoy compounds are charged, while none of the active compounds are is a concern.  An examination of both sets indicate that charge states were assigned to the decoys, but not to the active molecules. In order to be consistent, we will use some code from the RDKit Cookbook to neutralize the molecules. First, we will import an RDKit function to neutralize charges."
   ]
  },
  {
   "cell_type": "code",
   "execution_count": 13,
   "metadata": {},
   "outputs": [],
   "source": [
    "from neutralize import NeutraliseCharges"
   ]
  },
  {
   "cell_type": "markdown",
   "metadata": {},
   "source": [
    "Now we will create a new dataframe with the SMILES, ID, and label for the decoys.  "
   ]
  },
  {
   "cell_type": "code",
   "execution_count": 14,
   "metadata": {},
   "outputs": [],
   "source": [
    "revised_decoy_df = decoy_df[[\"SMILES\",\"ID\",\"label\"]].copy()"
   ]
  },
  {
   "cell_type": "markdown",
   "metadata": {},
   "source": [
    "With this new dataframe in hand, we can replace the SMILES with the SMILES for the neutral form of the molecule. The\n",
    "NeutraliseCharges function returns two values.  The first is the SMILES for the neutral form of the molecule and the second is a boolean variable indicating whether the molecule was changed.  In the code below, we only need the SMILES, so we will use the first element of the tuple returned by NeutraliseCharges."
   ]
  },
  {
   "cell_type": "code",
   "execution_count": 15,
   "metadata": {},
   "outputs": [],
   "source": [
    "revised_decoy_df[\"SMILES\"] = [NeutraliseCharges(x)[0] for x in revised_decoy_df[\"SMILES\"]]"
   ]
  },
  {
   "cell_type": "markdown",
   "metadata": {},
   "source": [
    "Once we've replaced the SMILES, we can add a molecule column to our new dataframe and calculated properties again. "
   ]
  },
  {
   "cell_type": "code",
   "execution_count": 16,
   "metadata": {},
   "outputs": [],
   "source": [
    "PandasTools.AddMoleculeColumnToFrame(revised_decoy_df,\"SMILES\",\"Mol\")\n",
    "add_property_columns_to_df(revised_decoy_df)"
   ]
  },
  {
   "cell_type": "markdown",
   "metadata": {},
   "source": [
    "We can now append the dataframe with the active molecules to the one with the revised, neutral decoys and calculate\n",
    "another box plot. "
   ]
  },
  {
   "cell_type": "code",
   "execution_count": 18,
   "metadata": {},
   "outputs": [],
   "source": [
    "new_tmp_df = active_df.append(revised_decoy_df,sort=False)"
   ]
  },
  {
   "cell_type": "code",
   "execution_count": 19,
   "metadata": {},
   "outputs": [
    {
     "data": {
      "text/plain": [
       "<matplotlib.axes._subplots.AxesSubplot at 0x7f4703380710>"
      ]
     },
     "execution_count": 19,
     "metadata": {},
     "output_type": "execute_result"
    },
    {
     "data": {
      "image/png": "[encoded data removed]",
      "text/plain": [
       "<Figure size 432x288 with 1 Axes>"
      ]
     },
     "metadata": {
      "needs_background": "light"
     },
     "output_type": "display_data"
    }
   ],
   "source": [
    "sns.violinplot(new_tmp_df[\"label\"],new_tmp_df[\"charge\"])"
   ]
  },
  {
   "cell_type": "markdown",
   "metadata": {},
   "source": [
    "An examination of the plot about show that there are very few charged molecules in the decoy set.  We can use the same \n",
    "technique we used above to create a dataframe with only the charged molecules.  We can then use this dataframe to determine the number of charged molecules remaining in the set. "
   ]
  },
  {
   "cell_type": "code",
   "execution_count": 20,
   "metadata": {},
   "outputs": [
    {
     "data": {
      "text/plain": [
       "0.0026373626373626374"
      ]
     },
     "execution_count": 20,
     "metadata": {},
     "output_type": "execute_result"
    }
   ],
   "source": [
    "charged = revised_decoy_df[revised_decoy_df[\"charge\"] != 0]\n",
    "charged.shape[0]/revised_decoy_df.shape[0]"
   ]
  },
  {
   "cell_type": "markdown",
   "metadata": {},
   "source": [
    "We have now reduced the fraction of charged compounds from 16% to 0.3%.  We can now be confident that our active and decoy sets are reasonbly well balanced.  "
   ]
  },
  {
   "cell_type": "markdown",
   "metadata": {},
   "source": [
    "In order to use these datasets with DeepChem we need to write the molecules out as a csv file consisting of SMILES, Name, and an integer value indicating whether the compounds are active (labeled as 1) or inactive (labeled as 0)."
   ]
  },
  {
   "cell_type": "code",
   "execution_count": 21,
   "metadata": {},
   "outputs": [
    {
     "data": {
      "text/html": [
       "<div>\n",
       "<style scoped>\n",
       "    .dataframe tbody tr th:only-of-type {\n",
       "        vertical-align: middle;\n",
       "    }\n",
       "\n",
       "    .dataframe tbody tr th {\n",
       "        vertical-align: top;\n",
       "    }\n",
       "\n",
       "    .dataframe thead th {\n",
       "        text-align: right;\n",
       "    }\n",
       "</style>\n",
       "<table border=\"1\" class=\"dataframe\">\n",
       "  <thead>\n",
       "    <tr style=\"text-align: right;\">\n",
       "      <th></th>\n",
       "      <th>SMILES</th>\n",
       "      <th>ID</th>\n",
       "      <th>is_active</th>\n",
       "    </tr>\n",
       "  </thead>\n",
       "  <tbody>\n",
       "    <tr>\n",
       "      <td>0</td>\n",
       "      <td>Cn1ccnc1Sc2ccc(cc2Cl)Nc3c4cc(c(cc4ncc3C#N)OCCC...</td>\n",
       "      <td>168691</td>\n",
       "      <td>1</td>\n",
       "    </tr>\n",
       "    <tr>\n",
       "      <td>1</td>\n",
       "      <td>C[C@@]12[C@@H]([C@@H](CC(O1)n3c4ccccc4c5c3c6n2...</td>\n",
       "      <td>86358</td>\n",
       "      <td>1</td>\n",
       "    </tr>\n",
       "    <tr>\n",
       "      <td>2</td>\n",
       "      <td>Cc1cnc(nc1c2cc([nH]c2)C(=O)N[C@H](CO)c3cccc(c3...</td>\n",
       "      <td>575087</td>\n",
       "      <td>1</td>\n",
       "    </tr>\n",
       "    <tr>\n",
       "      <td>3</td>\n",
       "      <td>Cc1cnc(nc1c2cc([nH]c2)C(=O)N[C@H](CO)c3cccc(c3...</td>\n",
       "      <td>575065</td>\n",
       "      <td>1</td>\n",
       "    </tr>\n",
       "    <tr>\n",
       "      <td>4</td>\n",
       "      <td>Cc1cnc(nc1c2cc([nH]c2)C(=O)N[C@H](CO)c3cccc(c3...</td>\n",
       "      <td>575047</td>\n",
       "      <td>1</td>\n",
       "    </tr>\n",
       "  </tbody>\n",
       "</table>\n",
       "</div>"
      ],
      "text/plain": [
       "                                              SMILES      ID  is_active\n",
       "0  Cn1ccnc1Sc2ccc(cc2Cl)Nc3c4cc(c(cc4ncc3C#N)OCCC...  168691          1\n",
       "1  C[C@@]12[C@@H]([C@@H](CC(O1)n3c4ccccc4c5c3c6n2...   86358          1\n",
       "2  Cc1cnc(nc1c2cc([nH]c2)C(=O)N[C@H](CO)c3cccc(c3...  575087          1\n",
       "3  Cc1cnc(nc1c2cc([nH]c2)C(=O)N[C@H](CO)c3cccc(c3...  575065          1\n",
       "4  Cc1cnc(nc1c2cc([nH]c2)C(=O)N[C@H](CO)c3cccc(c3...  575047          1"
      ]
     },
     "execution_count": 21,
     "metadata": {},
     "output_type": "execute_result"
    }
   ],
   "source": [
    "active_df[\"is_active\"] = [1] * active_df.shape[0]\n",
    "revised_decoy_df[\"is_active\"] = [0] * revised_decoy_df.shape[0]\n",
    "combined_df = active_df.append(revised_decoy_df)[[\"SMILES\",\"ID\",\"is_active\"]]\n",
    "combined_df.head()"
   ]
  },
  {
   "cell_type": "markdown",
   "metadata": {},
   "source": [
    "Our final step in this section is to save our new combined_df as a csv file.  The index=False option causes Pandas to not include the row number in the first column. "
   ]
  },
  {
   "cell_type": "code",
   "execution_count": 22,
   "metadata": {},
   "outputs": [],
   "source": [
    "combined_df.to_csv(\"dude_erk1_mk01.csv\")"
   ]
  },
  {
   "cell_type": "code",
   "execution_count": null,
   "metadata": {},
   "outputs": [],
   "source": []
  }
 ],
 "metadata": {
  "kernelspec": {
   "display_name": "Python 3",
   "language": "python",
   "name": "python3"
  },
  "language_info": {
   "codemirror_mode": {
    "name": "ipython",
    "version": 3
   },
   "file_extension": ".py",
   "mimetype": "text/x-python",
   "name": "python",
   "nbconvert_exporter": "python",
   "pygments_lexer": "ipython3",
   "version": "3.7.4"
  }
 },
 "nbformat": 4,
 "nbformat_minor": 2
}
