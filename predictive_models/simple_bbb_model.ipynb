{
 "cells": [
  {
   "cell_type": "code",
   "execution_count": 1,
   "metadata": {},
   "outputs": [
    {
     "name": "stderr",
     "output_type": "stream",
     "text": [
      "RDKit WARNING: [16:06:56] Enabling RDKit 2019.09.3 jupyter extensions\n"
     ]
    }
   ],
   "source": [
    "import pandas as pd\n",
    "from rdkit import Chem\n",
    "from janitor.chemistry import morgan_fingerprint\n",
    "from tqdm.notebook import tqdm\n",
    "from sklearn.model_selection import train_test_split\n",
    "from xgboost import XGBClassifier\n",
    "from sklearn.metrics import roc_auc_score, matthews_corrcoef, roc_curve\n",
    "import seaborn as sns"
   ]
  },
  {
   "cell_type": "code",
   "execution_count": 2,
   "metadata": {},
   "outputs": [],
   "source": [
    "sns.set(rc={'figure.figsize': (7, 7)})\n",
    "sns.set(font_scale=1.5)\n",
    "sns.set_style('whitegrid')"
   ]
  },
  {
   "cell_type": "code",
   "execution_count": 3,
   "metadata": {},
   "outputs": [],
   "source": [
    "df = pd.read_csv(\"../data/BBBP.csv\")"
   ]
  },
  {
   "cell_type": "code",
   "execution_count": 4,
   "metadata": {},
   "outputs": [
    {
     "data": {
      "text/html": [
       "<div>\n",
       "<style scoped>\n",
       "    .dataframe tbody tr th:only-of-type {\n",
       "        vertical-align: middle;\n",
       "    }\n",
       "\n",
       "    .dataframe tbody tr th {\n",
       "        vertical-align: top;\n",
       "    }\n",
       "\n",
       "    .dataframe thead th {\n",
       "        text-align: right;\n",
       "    }\n",
       "</style>\n",
       "<table border=\"1\" class=\"dataframe\">\n",
       "  <thead>\n",
       "    <tr style=\"text-align: right;\">\n",
       "      <th></th>\n",
       "      <th>num</th>\n",
       "      <th>name</th>\n",
       "      <th>p_np</th>\n",
       "      <th>smiles</th>\n",
       "    </tr>\n",
       "  </thead>\n",
       "  <tbody>\n",
       "    <tr>\n",
       "      <th>0</th>\n",
       "      <td>1</td>\n",
       "      <td>Propanolol</td>\n",
       "      <td>1</td>\n",
       "      <td>[Cl].CC(C)NCC(O)COc1cccc2ccccc12</td>\n",
       "    </tr>\n",
       "    <tr>\n",
       "      <th>1</th>\n",
       "      <td>2</td>\n",
       "      <td>Terbutylchlorambucil</td>\n",
       "      <td>1</td>\n",
       "      <td>C(=O)(OC(C)(C)C)CCCc1ccc(cc1)N(CCCl)CCCl</td>\n",
       "    </tr>\n",
       "    <tr>\n",
       "      <th>2</th>\n",
       "      <td>3</td>\n",
       "      <td>40730</td>\n",
       "      <td>1</td>\n",
       "      <td>c12c3c(N4CCN(C)CC4)c(F)cc1c(c(C(O)=O)cn2C(C)CO...</td>\n",
       "    </tr>\n",
       "    <tr>\n",
       "      <th>3</th>\n",
       "      <td>4</td>\n",
       "      <td>24</td>\n",
       "      <td>1</td>\n",
       "      <td>C1CCN(CC1)Cc1cccc(c1)OCCCNC(=O)C</td>\n",
       "    </tr>\n",
       "    <tr>\n",
       "      <th>4</th>\n",
       "      <td>5</td>\n",
       "      <td>cloxacillin</td>\n",
       "      <td>1</td>\n",
       "      <td>Cc1onc(c2ccccc2Cl)c1C(=O)N[C@H]3[C@H]4SC(C)(C)...</td>\n",
       "    </tr>\n",
       "  </tbody>\n",
       "</table>\n",
       "</div>"
      ],
      "text/plain": [
       "   num                  name  p_np  \\\n",
       "0    1            Propanolol     1   \n",
       "1    2  Terbutylchlorambucil     1   \n",
       "2    3                 40730     1   \n",
       "3    4                    24     1   \n",
       "4    5           cloxacillin     1   \n",
       "\n",
       "                                              smiles  \n",
       "0                   [Cl].CC(C)NCC(O)COc1cccc2ccccc12  \n",
       "1           C(=O)(OC(C)(C)C)CCCc1ccc(cc1)N(CCCl)CCCl  \n",
       "2  c12c3c(N4CCN(C)CC4)c(F)cc1c(c(C(O)=O)cn2C(C)CO...  \n",
       "3                   C1CCN(CC1)Cc1cccc(c1)OCCCNC(=O)C  \n",
       "4  Cc1onc(c2ccccc2Cl)c1C(=O)N[C@H]3[C@H]4SC(C)(C)...  "
      ]
     },
     "execution_count": 4,
     "metadata": {},
     "output_type": "execute_result"
    }
   ],
   "source": [
    "df.head()"
   ]
  },
  {
   "cell_type": "code",
   "execution_count": 5,
   "metadata": {},
   "outputs": [
    {
     "data": {
      "application/vnd.jupyter.widget-view+json": {
       "model_id": "f95cdc2b0445482987bde34b31f7ff14",
       "version_major": 2,
       "version_minor": 0
      },
      "text/plain": [
       "HBox(children=(FloatProgress(value=0.0, max=2050.0), HTML(value='')))"
      ]
     },
     "metadata": {},
     "output_type": "display_data"
    },
    {
     "name": "stderr",
     "output_type": "stream",
     "text": [
      "RDKit ERROR: [16:07:07] Explicit valence for atom # 1 N, 4, is greater than permitted\n",
      "RDKit WARNING: [16:07:07] WARNING: not removing hydrogen atom without neighbors\n",
      "RDKit ERROR: [16:07:07] Explicit valence for atom # 6 N, 4, is greater than permitted\n",
      "RDKit WARNING: [16:07:07] WARNING: not removing hydrogen atom without neighbors\n",
      "RDKit WARNING: [16:07:07] WARNING: not removing hydrogen atom without neighbors\n",
      "RDKit WARNING: [16:07:07] WARNING: not removing hydrogen atom without neighbors\n",
      "RDKit WARNING: [16:07:07] WARNING: not removing hydrogen atom without neighbors\n",
      "RDKit WARNING: [16:07:07] WARNING: not removing hydrogen atom without neighbors\n",
      "RDKit WARNING: [16:07:07] WARNING: not removing hydrogen atom without neighbors\n",
      "RDKit ERROR: [16:07:07] Explicit valence for atom # 6 N, 4, is greater than permitted\n",
      "RDKit WARNING: [16:07:07] WARNING: not removing hydrogen atom without neighbors\n",
      "RDKit WARNING: [16:07:07] WARNING: not removing hydrogen atom without neighbors\n",
      "RDKit WARNING: [16:07:07] WARNING: not removing hydrogen atom without neighbors\n",
      "RDKit WARNING: [16:07:07] WARNING: not removing hydrogen atom without neighbors\n",
      "RDKit ERROR: [16:07:07] Explicit valence for atom # 11 N, 4, is greater than permitted\n",
      "RDKit ERROR: [16:07:07] Explicit valence for atom # 12 N, 4, is greater than permitted\n",
      "RDKit ERROR: [16:07:07] Explicit valence for atom # 5 N, 4, is greater than permitted\n",
      "RDKit ERROR: [16:07:07] Explicit valence for atom # 5 N, 4, is greater than permitted\n",
      "RDKit ERROR: [16:07:07] Explicit valence for atom # 5 N, 4, is greater than permitted\n",
      "RDKit ERROR: [16:07:07] Explicit valence for atom # 5 N, 4, is greater than permitted\n",
      "RDKit ERROR: [16:07:07] Explicit valence for atom # 5 N, 4, is greater than permitted\n",
      "RDKit WARNING: [16:07:07] WARNING: not removing hydrogen atom without neighbors\n",
      "RDKit WARNING: [16:07:07] WARNING: not removing hydrogen atom without neighbors\n",
      "RDKit ERROR: [16:07:07] Explicit valence for atom # 5 N, 4, is greater than permitted\n",
      "RDKit WARNING: [16:07:07] WARNING: not removing hydrogen atom without neighbors\n",
      "RDKit WARNING: [16:07:07] WARNING: not removing hydrogen atom without neighbors\n",
      "RDKit WARNING: [16:07:07] WARNING: not removing hydrogen atom without neighbors\n",
      "RDKit WARNING: [16:07:07] WARNING: not removing hydrogen atom without neighbors\n",
      "RDKit WARNING: [16:07:07] WARNING: not removing hydrogen atom without neighbors\n"
     ]
    },
    {
     "name": "stdout",
     "output_type": "stream",
     "text": [
      "\n"
     ]
    },
    {
     "name": "stderr",
     "output_type": "stream",
     "text": [
      "RDKit WARNING: [16:07:07] WARNING: not removing hydrogen atom without neighbors\n",
      "RDKit WARNING: [16:07:07] WARNING: not removing hydrogen atom without neighbors\n",
      "RDKit WARNING: [16:07:07] WARNING: not removing hydrogen atom without neighbors\n",
      "RDKit WARNING: [16:07:07] WARNING: not removing hydrogen atom without neighbors\n",
      "RDKit WARNING: [16:07:07] WARNING: not removing hydrogen atom without neighbors\n",
      "RDKit WARNING: [16:07:07] WARNING: not removing hydrogen atom without neighbors\n",
      "RDKit WARNING: [16:07:07] WARNING: not removing hydrogen atom without neighbors\n",
      "RDKit WARNING: [16:07:07] WARNING: not removing hydrogen atom without neighbors\n",
      "RDKit WARNING: [16:07:07] WARNING: not removing hydrogen atom without neighbors\n",
      "RDKit WARNING: [16:07:07] WARNING: not removing hydrogen atom without neighbors\n",
      "RDKit WARNING: [16:07:07] WARNING: not removing hydrogen atom without neighbors\n",
      "RDKit WARNING: [16:07:07] WARNING: not removing hydrogen atom without neighbors\n",
      "RDKit WARNING: [16:07:07] WARNING: not removing hydrogen atom without neighbors\n",
      "RDKit WARNING: [16:07:07] WARNING: not removing hydrogen atom without neighbors\n",
      "RDKit WARNING: [16:07:07] WARNING: not removing hydrogen atom without neighbors\n",
      "RDKit WARNING: [16:07:07] WARNING: not removing hydrogen atom without neighbors\n",
      "RDKit WARNING: [16:07:07] WARNING: not removing hydrogen atom without neighbors\n",
      "RDKit WARNING: [16:07:07] WARNING: not removing hydrogen atom without neighbors\n",
      "RDKit WARNING: [16:07:07] WARNING: not removing hydrogen atom without neighbors\n",
      "RDKit WARNING: [16:07:07] WARNING: not removing hydrogen atom without neighbors\n",
      "RDKit WARNING: [16:07:07] WARNING: not removing hydrogen atom without neighbors\n",
      "RDKit WARNING: [16:07:07] WARNING: not removing hydrogen atom without neighbors\n"
     ]
    }
   ],
   "source": [
    "df['mol'] = [Chem.MolFromSmiles(x) for x in tqdm(df.smiles)]"
   ]
  },
  {
   "cell_type": "code",
   "execution_count": 6,
   "metadata": {},
   "outputs": [
    {
     "data": {
      "text/plain": [
       "False    2039\n",
       "True       11\n",
       "Name: mol, dtype: int64"
      ]
     },
     "execution_count": 6,
     "metadata": {},
     "output_type": "execute_result"
    }
   ],
   "source": [
    "pd.isna(df.mol).value_counts()"
   ]
  },
  {
   "cell_type": "code",
   "execution_count": 7,
   "metadata": {},
   "outputs": [
    {
     "data": {
      "text/plain": [
       "(2050, 5)"
      ]
     },
     "execution_count": 7,
     "metadata": {},
     "output_type": "execute_result"
    }
   ],
   "source": [
    "df.shape"
   ]
  },
  {
   "cell_type": "code",
   "execution_count": 8,
   "metadata": {},
   "outputs": [],
   "source": [
    "df.dropna(inplace=True)"
   ]
  },
  {
   "cell_type": "code",
   "execution_count": 9,
   "metadata": {},
   "outputs": [
    {
     "data": {
      "text/plain": [
       "(2039, 5)"
      ]
     },
     "execution_count": 9,
     "metadata": {},
     "output_type": "execute_result"
    }
   ],
   "source": [
    "df.shape"
   ]
  },
  {
   "cell_type": "code",
   "execution_count": 10,
   "metadata": {},
   "outputs": [],
   "source": [
    "fp_df = morgan_fingerprint(df,mols_column_name=\"mol\")"
   ]
  },
  {
   "cell_type": "code",
   "execution_count": 11,
   "metadata": {},
   "outputs": [],
   "source": [
    "combo_df = df[[\"p_np\"]].join(fp_df)"
   ]
  },
  {
   "cell_type": "code",
   "execution_count": 12,
   "metadata": {},
   "outputs": [],
   "source": [
    "train,test = train_test_split(combo_df)"
   ]
  },
  {
   "cell_type": "code",
   "execution_count": 13,
   "metadata": {},
   "outputs": [],
   "source": [
    "xgb = XGBClassifier()"
   ]
  },
  {
   "cell_type": "code",
   "execution_count": 14,
   "metadata": {},
   "outputs": [],
   "source": [
    "fp_cols = list(train.columns[1:])"
   ]
  },
  {
   "cell_type": "code",
   "execution_count": 15,
   "metadata": {},
   "outputs": [
    {
     "data": {
      "text/plain": [
       "XGBClassifier(base_score=0.5, booster='gbtree', colsample_bylevel=1,\n",
       "              colsample_bynode=1, colsample_bytree=1, gamma=0,\n",
       "              learning_rate=0.1, max_delta_step=0, max_depth=3,\n",
       "              min_child_weight=1, missing=None, n_estimators=100, n_jobs=1,\n",
       "              nthread=None, objective='binary:logistic', random_state=0,\n",
       "              reg_alpha=0, reg_lambda=1, scale_pos_weight=1, seed=None,\n",
       "              silent=None, subsample=1, verbosity=1)"
      ]
     },
     "execution_count": 15,
     "metadata": {},
     "output_type": "execute_result"
    }
   ],
   "source": [
    "xgb.fit(train[fp_cols],train.p_np)"
   ]
  },
  {
   "cell_type": "code",
   "execution_count": 16,
   "metadata": {},
   "outputs": [],
   "source": [
    "pred = xgb.predict(test[fp_cols])\n",
    "prob = xgb.predict_proba(test[fp_cols])"
   ]
  },
  {
   "cell_type": "code",
   "execution_count": 17,
   "metadata": {},
   "outputs": [
    {
     "data": {
      "image/png": "[encoded data removed]",
      "text/plain": [
       "<Figure size 504x504 with 1 Axes>"
      ]
     },
     "metadata": {},
     "output_type": "display_data"
    }
   ],
   "source": [
    "fpr, tpr, _ = roc_curve(test.p_np, prob[:,1])\n",
    "ax = sns.lineplot(fpr,tpr,lw=3)\n",
    "ax.set(xlabel=\"False Positive Rate\",ylabel=\"True Postive Rate\")\n",
    "_ = ax.plot([0,1],[0,1],ls=\"--\",lw=3)"
   ]
  },
  {
   "cell_type": "code",
   "execution_count": 18,
   "metadata": {},
   "outputs": [
    {
     "data": {
      "text/plain": [
       "0.8948397435897435"
      ]
     },
     "execution_count": 18,
     "metadata": {},
     "output_type": "execute_result"
    }
   ],
   "source": [
    "roc_auc_score(test.p_np,prob[:,1])"
   ]
  },
  {
   "cell_type": "code",
   "execution_count": 19,
   "metadata": {},
   "outputs": [
    {
     "data": {
      "text/plain": [
       "0.6423669817888049"
      ]
     },
     "execution_count": 19,
     "metadata": {},
     "output_type": "execute_result"
    }
   ],
   "source": [
    "matthews_corrcoef(test.p_np,pred)"
   ]
  },
  {
   "cell_type": "code",
   "execution_count": null,
   "metadata": {},
   "outputs": [],
   "source": []
  }
 ],
 "metadata": {
  "kernelspec": {
   "display_name": "Python 3",
   "language": "python",
   "name": "python3"
  },
  "language_info": {
   "codemirror_mode": {
    "name": "ipython",
    "version": 3
   },
   "file_extension": ".py",
   "mimetype": "text/x-python",
   "name": "python",
   "nbconvert_exporter": "python",
   "pygments_lexer": "ipython3",
   "version": "3.7.6"
  }
 },
 "nbformat": 4,
 "nbformat_minor": 4
}
