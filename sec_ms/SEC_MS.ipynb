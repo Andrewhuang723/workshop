{
 "cells": [
  {
   "cell_type": "markdown",
   "metadata": {},
   "source": [
    "In this notebook we will look at a method for designing a screening library for use with Size Exclusion Chromatography Mass Spectrometry (SEC-MS).  In this technique, we screen mixtures of compounds, since the final readout is mass, we want to have mixtures that have diverse masses. "
   ]
  },
  {
   "cell_type": "markdown",
   "metadata": {},
   "source": [
    "Import the necessary Python libraries"
   ]
  },
  {
   "cell_type": "code",
   "execution_count": 18,
   "metadata": {},
   "outputs": [],
   "source": [
    "import pandas as pd\n",
    "import seaborn as sns\n",
    "import numpy as np\n",
    "import matplotlib.pyplot as plt\n",
    "from matplotlib.ticker import FormatStrFormatter"
   ]
  },
  {
   "cell_type": "markdown",
   "metadata": {},
   "source": [
    "Define a few constants\n",
    "* resolution - the presumed mass difference that can be detected by the mass spectrometer\n",
    "* max_min - we will consider different mixture sizes, the minimimium size considered will be 100\n",
    "* mix_max - maximum mixture size\n",
    "* mix_inc - amout to increment the mixture size, we will consider sizes between 100 and 1600 incremented by 100.  So we will look at mixtures of size 100, 200, 300, 400 ... 1400, 1500, 1600\n"
   ]
  },
  {
   "cell_type": "code",
   "execution_count": 19,
   "metadata": {},
   "outputs": [],
   "source": [
    "resolution = 1\n",
    "mix_min = 100\n",
    "mix_max = 1600\n",
    "mix_inc = 100"
   ]
  },
  {
   "cell_type": "markdown",
   "metadata": {},
   "source": [
    "Read in our data that indicates the molecules id, the identifier for the 384 well plate, and the molecular weight for the molecule."
   ]
  },
  {
   "cell_type": "code",
   "execution_count": 20,
   "metadata": {},
   "outputs": [],
   "source": [
    "df = pd.read_csv(\"../data/plates.csv\")"
   ]
  },
  {
   "cell_type": "markdown",
   "metadata": {},
   "source": [
    "Look at the first few lines of the dataframe."
   ]
  },
  {
   "cell_type": "code",
   "execution_count": 21,
   "metadata": {},
   "outputs": [
    {
     "data": {
      "text/html": [
       "<div>\n",
       "<style scoped>\n",
       "    .dataframe tbody tr th:only-of-type {\n",
       "        vertical-align: middle;\n",
       "    }\n",
       "\n",
       "    .dataframe tbody tr th {\n",
       "        vertical-align: top;\n",
       "    }\n",
       "\n",
       "    .dataframe thead th {\n",
       "        text-align: right;\n",
       "    }\n",
       "</style>\n",
       "<table border=\"1\" class=\"dataframe\">\n",
       "  <thead>\n",
       "    <tr style=\"text-align: right;\">\n",
       "      <th></th>\n",
       "      <th>NAME</th>\n",
       "      <th>PLATE</th>\n",
       "      <th>MW</th>\n",
       "    </tr>\n",
       "  </thead>\n",
       "  <tbody>\n",
       "    <tr>\n",
       "      <th>0</th>\n",
       "      <td>MOL00000001</td>\n",
       "      <td>PLATE00000001</td>\n",
       "      <td>333.77</td>\n",
       "    </tr>\n",
       "    <tr>\n",
       "      <th>1</th>\n",
       "      <td>MOL00000002</td>\n",
       "      <td>PLATE00000001</td>\n",
       "      <td>334.39</td>\n",
       "    </tr>\n",
       "    <tr>\n",
       "      <th>2</th>\n",
       "      <td>MOL00000003</td>\n",
       "      <td>PLATE00000001</td>\n",
       "      <td>355.50</td>\n",
       "    </tr>\n",
       "    <tr>\n",
       "      <th>3</th>\n",
       "      <td>MOL00000004</td>\n",
       "      <td>PLATE00000001</td>\n",
       "      <td>399.41</td>\n",
       "    </tr>\n",
       "    <tr>\n",
       "      <th>4</th>\n",
       "      <td>MOL00000005</td>\n",
       "      <td>PLATE00000001</td>\n",
       "      <td>322.29</td>\n",
       "    </tr>\n",
       "  </tbody>\n",
       "</table>\n",
       "</div>"
      ],
      "text/plain": [
       "          NAME          PLATE      MW\n",
       "0  MOL00000001  PLATE00000001  333.77\n",
       "1  MOL00000002  PLATE00000001  334.39\n",
       "2  MOL00000003  PLATE00000001  355.50\n",
       "3  MOL00000004  PLATE00000001  399.41\n",
       "4  MOL00000005  PLATE00000001  322.29"
      ]
     },
     "execution_count": 21,
     "metadata": {},
     "output_type": "execute_result"
    }
   ],
   "source": [
    "df.head()"
   ]
  },
  {
   "cell_type": "markdown",
   "metadata": {},
   "source": [
    "Sort the dataframe by molecular weight"
   ]
  },
  {
   "cell_type": "code",
   "execution_count": 22,
   "metadata": {},
   "outputs": [],
   "source": [
    "df.sort_values(\"MW\",inplace=True)"
   ]
  },
  {
   "cell_type": "markdown",
   "metadata": {},
   "source": [
    "Get the number of molecules in the dataframe"
   ]
  },
  {
   "cell_type": "code",
   "execution_count": 23,
   "metadata": {},
   "outputs": [
    {
     "data": {
      "text/plain": [
       "99532"
      ]
     },
     "execution_count": 23,
     "metadata": {},
     "output_type": "execute_result"
    }
   ],
   "source": [
    "num_rows = df.shape[0]\n",
    "num_rows"
   ]
  },
  {
   "cell_type": "markdown",
   "metadata": {},
   "source": [
    "Assign new column to the dataframe showing the position of each molecule when ordered by molecular weight"
   ]
  },
  {
   "cell_type": "code",
   "execution_count": 24,
   "metadata": {},
   "outputs": [],
   "source": [
    "df['row_idx'] = range(0,num_rows)"
   ]
  },
  {
   "cell_type": "code",
   "execution_count": 25,
   "metadata": {},
   "outputs": [
    {
     "data": {
      "text/html": [
       "<div>\n",
       "<style scoped>\n",
       "    .dataframe tbody tr th:only-of-type {\n",
       "        vertical-align: middle;\n",
       "    }\n",
       "\n",
       "    .dataframe tbody tr th {\n",
       "        vertical-align: top;\n",
       "    }\n",
       "\n",
       "    .dataframe thead th {\n",
       "        text-align: right;\n",
       "    }\n",
       "</style>\n",
       "<table border=\"1\" class=\"dataframe\">\n",
       "  <thead>\n",
       "    <tr style=\"text-align: right;\">\n",
       "      <th></th>\n",
       "      <th>NAME</th>\n",
       "      <th>PLATE</th>\n",
       "      <th>MW</th>\n",
       "      <th>row_idx</th>\n",
       "    </tr>\n",
       "  </thead>\n",
       "  <tbody>\n",
       "    <tr>\n",
       "      <th>82237</th>\n",
       "      <td>MOL00082238</td>\n",
       "      <td>PLATE00000215</td>\n",
       "      <td>174.63</td>\n",
       "      <td>0</td>\n",
       "    </tr>\n",
       "    <tr>\n",
       "      <th>58935</th>\n",
       "      <td>MOL00058936</td>\n",
       "      <td>PLATE00000155</td>\n",
       "      <td>177.63</td>\n",
       "      <td>1</td>\n",
       "    </tr>\n",
       "    <tr>\n",
       "      <th>87261</th>\n",
       "      <td>MOL00087262</td>\n",
       "      <td>PLATE00000229</td>\n",
       "      <td>187.67</td>\n",
       "      <td>2</td>\n",
       "    </tr>\n",
       "    <tr>\n",
       "      <th>67634</th>\n",
       "      <td>MOL00067635</td>\n",
       "      <td>PLATE00000177</td>\n",
       "      <td>199.08</td>\n",
       "      <td>3</td>\n",
       "    </tr>\n",
       "    <tr>\n",
       "      <th>52603</th>\n",
       "      <td>MOL00052604</td>\n",
       "      <td>PLATE00000138</td>\n",
       "      <td>201.22</td>\n",
       "      <td>4</td>\n",
       "    </tr>\n",
       "  </tbody>\n",
       "</table>\n",
       "</div>"
      ],
      "text/plain": [
       "              NAME          PLATE      MW  row_idx\n",
       "82237  MOL00082238  PLATE00000215  174.63        0\n",
       "58935  MOL00058936  PLATE00000155  177.63        1\n",
       "87261  MOL00087262  PLATE00000229  187.67        2\n",
       "67634  MOL00067635  PLATE00000177  199.08        3\n",
       "52603  MOL00052604  PLATE00000138  201.22        4"
      ]
     },
     "execution_count": 25,
     "metadata": {},
     "output_type": "execute_result"
    }
   ],
   "source": [
    "df.head()"
   ]
  },
  {
   "cell_type": "markdown",
   "metadata": {},
   "source": [
    "OK, now for the fun part, we're going to design mixtures with diverse masses.  Now that we have the molecules ordered by mass, it's trivial to divide this into mixtures.  We can simply select every nth row, where n is the total number of molecules / the total number of mixtures.  For instance if we have 100 molecules and we have a total of 10 mixtures, we would select every 10th row.  We can get the mixture number by taking the modulus \"%\" of the row index by the number of mixtures. \n",
    "\n",
    "The code below calculates the number of unique masses in each mixture.  Since we are generating mulitple mixtures, we report both the minimum and median number of unique masses. "
   ]
  },
  {
   "cell_type": "code",
   "execution_count": 26,
   "metadata": {},
   "outputs": [
    {
     "name": "stdout",
     "output_type": "stream",
     "text": [
      "100 996 mixtures\n",
      "200 498 mixtures\n",
      "300 332 mixtures\n",
      "400 249 mixtures\n",
      "500 200 mixtures\n",
      "600 166 mixtures\n",
      "700 143 mixtures\n",
      "800 125 mixtures\n",
      "900 111 mixtures\n",
      "1000 100 mixtures\n",
      "1100 91 mixtures\n",
      "1200 83 mixtures\n",
      "1300 77 mixtures\n",
      "1400 72 mixtures\n",
      "1500 67 mixtures\n",
      "1600 63 mixtures\n"
     ]
    }
   ],
   "source": [
    "summary_list = []\n",
    "for mixture_size in range(mix_min,mix_max+1,mix_inc):\n",
    "    num_mixtures = num_rows//mixture_size + 1\n",
    "    print(mixture_size,num_mixtures,\"mixtures\")\n",
    "    df['mixture'] = df['row_idx'] % num_mixtures\n",
    "    unique_mass_list = []\n",
    "    for k,v in df.groupby('mixture'):\n",
    "        mw_vals = v['MW'].to_list()\n",
    "        unique_mass_list.append(len(set([int(x*1/resolution) for x in mw_vals])))\n",
    "    summary_list.append([mixture_size,np.min(unique_mass_list),np.median(unique_mass_list)])"
   ]
  },
  {
   "cell_type": "markdown",
   "metadata": {},
   "source": [
    "Take the result of the function above and put it into a a dataframe. "
   ]
  },
  {
   "cell_type": "code",
   "execution_count": 27,
   "metadata": {},
   "outputs": [],
   "source": [
    "col_list = [\"Size\",\"Min\",\"Median\"]\n",
    "col_list = [x + \"_Opt\" for x in col_list]\n",
    "df_opt = pd.DataFrame(summary_list,columns=col_list)"
   ]
  },
  {
   "cell_type": "code",
   "execution_count": 28,
   "metadata": {},
   "outputs": [
    {
     "data": {
      "text/html": [
       "<div>\n",
       "<style scoped>\n",
       "    .dataframe tbody tr th:only-of-type {\n",
       "        vertical-align: middle;\n",
       "    }\n",
       "\n",
       "    .dataframe tbody tr th {\n",
       "        vertical-align: top;\n",
       "    }\n",
       "\n",
       "    .dataframe thead th {\n",
       "        text-align: right;\n",
       "    }\n",
       "</style>\n",
       "<table border=\"1\" class=\"dataframe\">\n",
       "  <thead>\n",
       "    <tr style=\"text-align: right;\">\n",
       "      <th></th>\n",
       "      <th>Size_Opt</th>\n",
       "      <th>Min_Opt</th>\n",
       "      <th>Median_Opt</th>\n",
       "    </tr>\n",
       "  </thead>\n",
       "  <tbody>\n",
       "    <tr>\n",
       "      <th>0</th>\n",
       "      <td>100</td>\n",
       "      <td>99</td>\n",
       "      <td>100.0</td>\n",
       "    </tr>\n",
       "    <tr>\n",
       "      <th>1</th>\n",
       "      <td>200</td>\n",
       "      <td>147</td>\n",
       "      <td>148.0</td>\n",
       "    </tr>\n",
       "    <tr>\n",
       "      <th>2</th>\n",
       "      <td>300</td>\n",
       "      <td>170</td>\n",
       "      <td>172.0</td>\n",
       "    </tr>\n",
       "    <tr>\n",
       "      <th>3</th>\n",
       "      <td>400</td>\n",
       "      <td>184</td>\n",
       "      <td>186.0</td>\n",
       "    </tr>\n",
       "    <tr>\n",
       "      <th>4</th>\n",
       "      <td>500</td>\n",
       "      <td>189</td>\n",
       "      <td>192.0</td>\n",
       "    </tr>\n",
       "    <tr>\n",
       "      <th>5</th>\n",
       "      <td>600</td>\n",
       "      <td>193</td>\n",
       "      <td>197.0</td>\n",
       "    </tr>\n",
       "    <tr>\n",
       "      <th>6</th>\n",
       "      <td>700</td>\n",
       "      <td>196</td>\n",
       "      <td>199.0</td>\n",
       "    </tr>\n",
       "    <tr>\n",
       "      <th>7</th>\n",
       "      <td>800</td>\n",
       "      <td>199</td>\n",
       "      <td>200.0</td>\n",
       "    </tr>\n",
       "    <tr>\n",
       "      <th>8</th>\n",
       "      <td>900</td>\n",
       "      <td>198</td>\n",
       "      <td>201.0</td>\n",
       "    </tr>\n",
       "    <tr>\n",
       "      <th>9</th>\n",
       "      <td>1000</td>\n",
       "      <td>200</td>\n",
       "      <td>201.0</td>\n",
       "    </tr>\n",
       "    <tr>\n",
       "      <th>10</th>\n",
       "      <td>1100</td>\n",
       "      <td>200</td>\n",
       "      <td>202.0</td>\n",
       "    </tr>\n",
       "    <tr>\n",
       "      <th>11</th>\n",
       "      <td>1200</td>\n",
       "      <td>201</td>\n",
       "      <td>202.0</td>\n",
       "    </tr>\n",
       "    <tr>\n",
       "      <th>12</th>\n",
       "      <td>1300</td>\n",
       "      <td>201</td>\n",
       "      <td>202.0</td>\n",
       "    </tr>\n",
       "    <tr>\n",
       "      <th>13</th>\n",
       "      <td>1400</td>\n",
       "      <td>201</td>\n",
       "      <td>202.0</td>\n",
       "    </tr>\n",
       "    <tr>\n",
       "      <th>14</th>\n",
       "      <td>1500</td>\n",
       "      <td>202</td>\n",
       "      <td>202.0</td>\n",
       "    </tr>\n",
       "    <tr>\n",
       "      <th>15</th>\n",
       "      <td>1600</td>\n",
       "      <td>202</td>\n",
       "      <td>202.0</td>\n",
       "    </tr>\n",
       "  </tbody>\n",
       "</table>\n",
       "</div>"
      ],
      "text/plain": [
       "    Size_Opt  Min_Opt  Median_Opt\n",
       "0        100       99       100.0\n",
       "1        200      147       148.0\n",
       "2        300      170       172.0\n",
       "3        400      184       186.0\n",
       "4        500      189       192.0\n",
       "5        600      193       197.0\n",
       "6        700      196       199.0\n",
       "7        800      199       200.0\n",
       "8        900      198       201.0\n",
       "9       1000      200       201.0\n",
       "10      1100      200       202.0\n",
       "11      1200      201       202.0\n",
       "12      1300      201       202.0\n",
       "13      1400      201       202.0\n",
       "14      1500      202       202.0\n",
       "15      1600      202       202.0"
      ]
     },
     "execution_count": 28,
     "metadata": {},
     "output_type": "execute_result"
    }
   ],
   "source": [
    "df_opt"
   ]
  },
  {
   "cell_type": "markdown",
   "metadata": {},
   "source": [
    "The code above allowed us to design a library with mixtures having diverse masses.  Of course, replating our screening collection is going to be a lot of work.  Let's look at what would happen if we did nothing and simply designed mixtures based on the existing plate layout. \n",
    "\n",
    "We can simlate this by sorting the library first by plate, then by molecular weight."
   ]
  },
  {
   "cell_type": "code",
   "execution_count": 29,
   "metadata": {},
   "outputs": [],
   "source": [
    "df.sort_values([\"PLATE\",\"MW\"],inplace=True)\n",
    "df['row_idx'] = range(0,num_rows)"
   ]
  },
  {
   "cell_type": "markdown",
   "metadata": {},
   "source": [
    "Now we can follow the same mixture desig protocol we used above.  I probably should have broken this out into a function rather than simply copying and pasting the code. "
   ]
  },
  {
   "cell_type": "code",
   "execution_count": 30,
   "metadata": {},
   "outputs": [
    {
     "name": "stdout",
     "output_type": "stream",
     "text": [
      "100 996 mixtures\n",
      "200 498 mixtures\n",
      "300 332 mixtures\n",
      "400 249 mixtures\n",
      "500 200 mixtures\n",
      "600 166 mixtures\n",
      "700 143 mixtures\n",
      "800 125 mixtures\n",
      "900 111 mixtures\n",
      "1000 100 mixtures\n",
      "1100 91 mixtures\n",
      "1200 83 mixtures\n",
      "1300 77 mixtures\n",
      "1400 72 mixtures\n",
      "1500 67 mixtures\n",
      "1600 63 mixtures\n"
     ]
    }
   ],
   "source": [
    "summary_list = []\n",
    "for mixture_size in range(mix_min,mix_max+1,mix_inc):\n",
    "    num_mixtures = num_rows//mixture_size + 1\n",
    "    print(mixture_size,num_mixtures,\"mixtures\")\n",
    "    df['mixture'] = df['row_idx'] % num_mixtures\n",
    "    unique_mass_list = []\n",
    "    for k,v in df.groupby('mixture'):\n",
    "        mw_vals = v['MW'].to_list()\n",
    "        unique_mass_list.append(len(set([int(x*1/resolution) for x in mw_vals])))\n",
    "    summary_list.append([mixture_size,np.min(unique_mass_list),np.median(unique_mass_list)])"
   ]
  },
  {
   "cell_type": "markdown",
   "metadata": {},
   "source": [
    "Again, we'll take the output from the code above and create a dataframe.  Note that this time the dataframe has a different name and the columns are named differently. "
   ]
  },
  {
   "cell_type": "code",
   "execution_count": 31,
   "metadata": {},
   "outputs": [],
   "source": [
    "col_list = [\"Size\",\"Min\",\"Median\"]\n",
    "col_list = [x + \"_Plate\" for x in col_list]\n",
    "df_plate = pd.DataFrame(summary_list,columns=col_list)"
   ]
  },
  {
   "cell_type": "markdown",
   "metadata": {},
   "source": [
    "Our next task will be to create a plot comparing the two different approaches to library design (optimal and plate based).  In order to do this, we need to massage the data a bit.  First we will combine the two dataframes we created above. "
   ]
  },
  {
   "cell_type": "code",
   "execution_count": 40,
   "metadata": {},
   "outputs": [
    {
     "data": {
      "text/html": [
       "<div>\n",
       "<style scoped>\n",
       "    .dataframe tbody tr th:only-of-type {\n",
       "        vertical-align: middle;\n",
       "    }\n",
       "\n",
       "    .dataframe tbody tr th {\n",
       "        vertical-align: top;\n",
       "    }\n",
       "\n",
       "    .dataframe thead th {\n",
       "        text-align: right;\n",
       "    }\n",
       "</style>\n",
       "<table border=\"1\" class=\"dataframe\">\n",
       "  <thead>\n",
       "    <tr style=\"text-align: right;\">\n",
       "      <th></th>\n",
       "      <th>Size_Opt</th>\n",
       "      <th>Min_Opt</th>\n",
       "      <th>Median_Opt</th>\n",
       "      <th>Size_Plate</th>\n",
       "      <th>Min_Plate</th>\n",
       "      <th>Median_Plate</th>\n",
       "    </tr>\n",
       "  </thead>\n",
       "  <tbody>\n",
       "    <tr>\n",
       "      <th>0</th>\n",
       "      <td>100</td>\n",
       "      <td>99</td>\n",
       "      <td>100.0</td>\n",
       "      <td>100</td>\n",
       "      <td>66</td>\n",
       "      <td>75.0</td>\n",
       "    </tr>\n",
       "    <tr>\n",
       "      <th>1</th>\n",
       "      <td>200</td>\n",
       "      <td>147</td>\n",
       "      <td>148.0</td>\n",
       "      <td>200</td>\n",
       "      <td>106</td>\n",
       "      <td>117.0</td>\n",
       "    </tr>\n",
       "    <tr>\n",
       "      <th>2</th>\n",
       "      <td>300</td>\n",
       "      <td>170</td>\n",
       "      <td>172.0</td>\n",
       "      <td>300</td>\n",
       "      <td>129</td>\n",
       "      <td>141.5</td>\n",
       "    </tr>\n",
       "    <tr>\n",
       "      <th>3</th>\n",
       "      <td>400</td>\n",
       "      <td>184</td>\n",
       "      <td>186.0</td>\n",
       "      <td>400</td>\n",
       "      <td>146</td>\n",
       "      <td>156.0</td>\n",
       "    </tr>\n",
       "    <tr>\n",
       "      <th>4</th>\n",
       "      <td>500</td>\n",
       "      <td>189</td>\n",
       "      <td>192.0</td>\n",
       "      <td>500</td>\n",
       "      <td>157</td>\n",
       "      <td>167.0</td>\n",
       "    </tr>\n",
       "    <tr>\n",
       "      <th>5</th>\n",
       "      <td>600</td>\n",
       "      <td>193</td>\n",
       "      <td>197.0</td>\n",
       "      <td>600</td>\n",
       "      <td>163</td>\n",
       "      <td>175.0</td>\n",
       "    </tr>\n",
       "    <tr>\n",
       "      <th>6</th>\n",
       "      <td>700</td>\n",
       "      <td>196</td>\n",
       "      <td>199.0</td>\n",
       "      <td>700</td>\n",
       "      <td>171</td>\n",
       "      <td>179.0</td>\n",
       "    </tr>\n",
       "    <tr>\n",
       "      <th>7</th>\n",
       "      <td>800</td>\n",
       "      <td>199</td>\n",
       "      <td>200.0</td>\n",
       "      <td>800</td>\n",
       "      <td>176</td>\n",
       "      <td>184.0</td>\n",
       "    </tr>\n",
       "    <tr>\n",
       "      <th>8</th>\n",
       "      <td>900</td>\n",
       "      <td>198</td>\n",
       "      <td>201.0</td>\n",
       "      <td>900</td>\n",
       "      <td>180</td>\n",
       "      <td>187.0</td>\n",
       "    </tr>\n",
       "    <tr>\n",
       "      <th>9</th>\n",
       "      <td>1000</td>\n",
       "      <td>200</td>\n",
       "      <td>201.0</td>\n",
       "      <td>1000</td>\n",
       "      <td>184</td>\n",
       "      <td>190.0</td>\n",
       "    </tr>\n",
       "    <tr>\n",
       "      <th>10</th>\n",
       "      <td>1100</td>\n",
       "      <td>200</td>\n",
       "      <td>202.0</td>\n",
       "      <td>1100</td>\n",
       "      <td>187</td>\n",
       "      <td>193.0</td>\n",
       "    </tr>\n",
       "    <tr>\n",
       "      <th>11</th>\n",
       "      <td>1200</td>\n",
       "      <td>201</td>\n",
       "      <td>202.0</td>\n",
       "      <td>1200</td>\n",
       "      <td>188</td>\n",
       "      <td>194.0</td>\n",
       "    </tr>\n",
       "    <tr>\n",
       "      <th>12</th>\n",
       "      <td>1300</td>\n",
       "      <td>201</td>\n",
       "      <td>202.0</td>\n",
       "      <td>1300</td>\n",
       "      <td>183</td>\n",
       "      <td>194.0</td>\n",
       "    </tr>\n",
       "    <tr>\n",
       "      <th>13</th>\n",
       "      <td>1400</td>\n",
       "      <td>201</td>\n",
       "      <td>202.0</td>\n",
       "      <td>1400</td>\n",
       "      <td>187</td>\n",
       "      <td>193.0</td>\n",
       "    </tr>\n",
       "    <tr>\n",
       "      <th>14</th>\n",
       "      <td>1500</td>\n",
       "      <td>202</td>\n",
       "      <td>202.0</td>\n",
       "      <td>1500</td>\n",
       "      <td>193</td>\n",
       "      <td>198.0</td>\n",
       "    </tr>\n",
       "    <tr>\n",
       "      <th>15</th>\n",
       "      <td>1600</td>\n",
       "      <td>202</td>\n",
       "      <td>202.0</td>\n",
       "      <td>1600</td>\n",
       "      <td>194</td>\n",
       "      <td>198.0</td>\n",
       "    </tr>\n",
       "  </tbody>\n",
       "</table>\n",
       "</div>"
      ],
      "text/plain": [
       "    Size_Opt  Min_Opt  Median_Opt  Size_Plate  Min_Plate  Median_Plate\n",
       "0        100       99       100.0         100         66          75.0\n",
       "1        200      147       148.0         200        106         117.0\n",
       "2        300      170       172.0         300        129         141.5\n",
       "3        400      184       186.0         400        146         156.0\n",
       "4        500      189       192.0         500        157         167.0\n",
       "5        600      193       197.0         600        163         175.0\n",
       "6        700      196       199.0         700        171         179.0\n",
       "7        800      199       200.0         800        176         184.0\n",
       "8        900      198       201.0         900        180         187.0\n",
       "9       1000      200       201.0        1000        184         190.0\n",
       "10      1100      200       202.0        1100        187         193.0\n",
       "11      1200      201       202.0        1200        188         194.0\n",
       "12      1300      201       202.0        1300        183         194.0\n",
       "13      1400      201       202.0        1400        187         193.0\n",
       "14      1500      202       202.0        1500        193         198.0\n",
       "15      1600      202       202.0        1600        194         198.0"
      ]
     },
     "execution_count": 40,
     "metadata": {},
     "output_type": "execute_result"
    }
   ],
   "source": [
    "combo_df = pd.concat([df_opt,df_plate],axis=1)\n",
    "combo_df"
   ]
  },
  {
   "cell_type": "markdown",
   "metadata": {},
   "source": [
    "We now need to reshape this dataframe so that we have new dataframe with the mixture size, median number of unqiue molecules per mixture and an indicator variable showing the approach.  Fortunately, the \"melt\" method in Pandas makes it easy to do this. "
   ]
  },
  {
   "cell_type": "code",
   "execution_count": 41,
   "metadata": {},
   "outputs": [
    {
     "data": {
      "text/html": [
       "<div>\n",
       "<style scoped>\n",
       "    .dataframe tbody tr th:only-of-type {\n",
       "        vertical-align: middle;\n",
       "    }\n",
       "\n",
       "    .dataframe tbody tr th {\n",
       "        vertical-align: top;\n",
       "    }\n",
       "\n",
       "    .dataframe thead th {\n",
       "        text-align: right;\n",
       "    }\n",
       "</style>\n",
       "<table border=\"1\" class=\"dataframe\">\n",
       "  <thead>\n",
       "    <tr style=\"text-align: right;\">\n",
       "      <th></th>\n",
       "      <th>Size_Opt</th>\n",
       "      <th>variable</th>\n",
       "      <th>value</th>\n",
       "    </tr>\n",
       "  </thead>\n",
       "  <tbody>\n",
       "    <tr>\n",
       "      <th>0</th>\n",
       "      <td>100</td>\n",
       "      <td>Min_Opt</td>\n",
       "      <td>99</td>\n",
       "    </tr>\n",
       "    <tr>\n",
       "      <th>1</th>\n",
       "      <td>200</td>\n",
       "      <td>Min_Opt</td>\n",
       "      <td>147</td>\n",
       "    </tr>\n",
       "    <tr>\n",
       "      <th>2</th>\n",
       "      <td>300</td>\n",
       "      <td>Min_Opt</td>\n",
       "      <td>170</td>\n",
       "    </tr>\n",
       "    <tr>\n",
       "      <th>3</th>\n",
       "      <td>400</td>\n",
       "      <td>Min_Opt</td>\n",
       "      <td>184</td>\n",
       "    </tr>\n",
       "    <tr>\n",
       "      <th>4</th>\n",
       "      <td>500</td>\n",
       "      <td>Min_Opt</td>\n",
       "      <td>189</td>\n",
       "    </tr>\n",
       "    <tr>\n",
       "      <th>5</th>\n",
       "      <td>600</td>\n",
       "      <td>Min_Opt</td>\n",
       "      <td>193</td>\n",
       "    </tr>\n",
       "    <tr>\n",
       "      <th>6</th>\n",
       "      <td>700</td>\n",
       "      <td>Min_Opt</td>\n",
       "      <td>196</td>\n",
       "    </tr>\n",
       "    <tr>\n",
       "      <th>7</th>\n",
       "      <td>800</td>\n",
       "      <td>Min_Opt</td>\n",
       "      <td>199</td>\n",
       "    </tr>\n",
       "    <tr>\n",
       "      <th>8</th>\n",
       "      <td>900</td>\n",
       "      <td>Min_Opt</td>\n",
       "      <td>198</td>\n",
       "    </tr>\n",
       "    <tr>\n",
       "      <th>9</th>\n",
       "      <td>1000</td>\n",
       "      <td>Min_Opt</td>\n",
       "      <td>200</td>\n",
       "    </tr>\n",
       "    <tr>\n",
       "      <th>10</th>\n",
       "      <td>1100</td>\n",
       "      <td>Min_Opt</td>\n",
       "      <td>200</td>\n",
       "    </tr>\n",
       "    <tr>\n",
       "      <th>11</th>\n",
       "      <td>1200</td>\n",
       "      <td>Min_Opt</td>\n",
       "      <td>201</td>\n",
       "    </tr>\n",
       "    <tr>\n",
       "      <th>12</th>\n",
       "      <td>1300</td>\n",
       "      <td>Min_Opt</td>\n",
       "      <td>201</td>\n",
       "    </tr>\n",
       "    <tr>\n",
       "      <th>13</th>\n",
       "      <td>1400</td>\n",
       "      <td>Min_Opt</td>\n",
       "      <td>201</td>\n",
       "    </tr>\n",
       "    <tr>\n",
       "      <th>14</th>\n",
       "      <td>1500</td>\n",
       "      <td>Min_Opt</td>\n",
       "      <td>202</td>\n",
       "    </tr>\n",
       "    <tr>\n",
       "      <th>15</th>\n",
       "      <td>1600</td>\n",
       "      <td>Min_Opt</td>\n",
       "      <td>202</td>\n",
       "    </tr>\n",
       "    <tr>\n",
       "      <th>16</th>\n",
       "      <td>100</td>\n",
       "      <td>Min_Plate</td>\n",
       "      <td>66</td>\n",
       "    </tr>\n",
       "    <tr>\n",
       "      <th>17</th>\n",
       "      <td>200</td>\n",
       "      <td>Min_Plate</td>\n",
       "      <td>106</td>\n",
       "    </tr>\n",
       "    <tr>\n",
       "      <th>18</th>\n",
       "      <td>300</td>\n",
       "      <td>Min_Plate</td>\n",
       "      <td>129</td>\n",
       "    </tr>\n",
       "    <tr>\n",
       "      <th>19</th>\n",
       "      <td>400</td>\n",
       "      <td>Min_Plate</td>\n",
       "      <td>146</td>\n",
       "    </tr>\n",
       "    <tr>\n",
       "      <th>20</th>\n",
       "      <td>500</td>\n",
       "      <td>Min_Plate</td>\n",
       "      <td>157</td>\n",
       "    </tr>\n",
       "    <tr>\n",
       "      <th>21</th>\n",
       "      <td>600</td>\n",
       "      <td>Min_Plate</td>\n",
       "      <td>163</td>\n",
       "    </tr>\n",
       "    <tr>\n",
       "      <th>22</th>\n",
       "      <td>700</td>\n",
       "      <td>Min_Plate</td>\n",
       "      <td>171</td>\n",
       "    </tr>\n",
       "    <tr>\n",
       "      <th>23</th>\n",
       "      <td>800</td>\n",
       "      <td>Min_Plate</td>\n",
       "      <td>176</td>\n",
       "    </tr>\n",
       "    <tr>\n",
       "      <th>24</th>\n",
       "      <td>900</td>\n",
       "      <td>Min_Plate</td>\n",
       "      <td>180</td>\n",
       "    </tr>\n",
       "    <tr>\n",
       "      <th>25</th>\n",
       "      <td>1000</td>\n",
       "      <td>Min_Plate</td>\n",
       "      <td>184</td>\n",
       "    </tr>\n",
       "    <tr>\n",
       "      <th>26</th>\n",
       "      <td>1100</td>\n",
       "      <td>Min_Plate</td>\n",
       "      <td>187</td>\n",
       "    </tr>\n",
       "    <tr>\n",
       "      <th>27</th>\n",
       "      <td>1200</td>\n",
       "      <td>Min_Plate</td>\n",
       "      <td>188</td>\n",
       "    </tr>\n",
       "    <tr>\n",
       "      <th>28</th>\n",
       "      <td>1300</td>\n",
       "      <td>Min_Plate</td>\n",
       "      <td>183</td>\n",
       "    </tr>\n",
       "    <tr>\n",
       "      <th>29</th>\n",
       "      <td>1400</td>\n",
       "      <td>Min_Plate</td>\n",
       "      <td>187</td>\n",
       "    </tr>\n",
       "    <tr>\n",
       "      <th>30</th>\n",
       "      <td>1500</td>\n",
       "      <td>Min_Plate</td>\n",
       "      <td>193</td>\n",
       "    </tr>\n",
       "    <tr>\n",
       "      <th>31</th>\n",
       "      <td>1600</td>\n",
       "      <td>Min_Plate</td>\n",
       "      <td>194</td>\n",
       "    </tr>\n",
       "  </tbody>\n",
       "</table>\n",
       "</div>"
      ],
      "text/plain": [
       "    Size_Opt   variable  value\n",
       "0        100    Min_Opt     99\n",
       "1        200    Min_Opt    147\n",
       "2        300    Min_Opt    170\n",
       "3        400    Min_Opt    184\n",
       "4        500    Min_Opt    189\n",
       "5        600    Min_Opt    193\n",
       "6        700    Min_Opt    196\n",
       "7        800    Min_Opt    199\n",
       "8        900    Min_Opt    198\n",
       "9       1000    Min_Opt    200\n",
       "10      1100    Min_Opt    200\n",
       "11      1200    Min_Opt    201\n",
       "12      1300    Min_Opt    201\n",
       "13      1400    Min_Opt    201\n",
       "14      1500    Min_Opt    202\n",
       "15      1600    Min_Opt    202\n",
       "16       100  Min_Plate     66\n",
       "17       200  Min_Plate    106\n",
       "18       300  Min_Plate    129\n",
       "19       400  Min_Plate    146\n",
       "20       500  Min_Plate    157\n",
       "21       600  Min_Plate    163\n",
       "22       700  Min_Plate    171\n",
       "23       800  Min_Plate    176\n",
       "24       900  Min_Plate    180\n",
       "25      1000  Min_Plate    184\n",
       "26      1100  Min_Plate    187\n",
       "27      1200  Min_Plate    188\n",
       "28      1300  Min_Plate    183\n",
       "29      1400  Min_Plate    187\n",
       "30      1500  Min_Plate    193\n",
       "31      1600  Min_Plate    194"
      ]
     },
     "execution_count": 41,
     "metadata": {},
     "output_type": "execute_result"
    }
   ],
   "source": [
    "melt_df = combo_df[[\"Size_Opt\",\"Min_Opt\",\"Min_Plate\"]].melt(id_vars=\"Size_Opt\")\n",
    "melt_df"
   ]
  },
  {
   "cell_type": "markdown",
   "metadata": {},
   "source": [
    "Now that we've reformatted the data, we can make our plot.    "
   ]
  },
  {
   "cell_type": "code",
   "execution_count": 38,
   "metadata": {},
   "outputs": [
    {
     "data": {
      "image/png": "[encoded data removed]",
      "text/plain": [
       "<Figure size 864x720 with 1 Axes>"
      ]
     },
     "metadata": {},
     "output_type": "display_data"
    }
   ],
   "source": [
    "sns.set(rc={'figure.figsize': (12, 10)})\n",
    "sns.set(font_scale=1.5,rc={\"lines.linewidth\": 4.5})\n",
    "sns.set_style('whitegrid')\n",
    "ax = sns.lineplot(x=melt_df.Size_Opt,y=melt_df.value,hue=melt_df.variable)\n",
    "ax.set(xlabel=\"Mixture size\",ylabel=\"Number of Unqiue Masses\")\n",
    "_ = plt.legend(title=\"\",loc=\"best\",labels=['Optimal', 'Plate Based'])"
   ]
  },
  {
   "cell_type": "markdown",
   "metadata": {},
   "source": [
    "It's interesting to note that the differences aren't very large.  With a mixture size of 800, the optimal approach gives us ~200 unqiue masses per mixture, while the plate based approach gives us 175 unque masses per mixture. "
   ]
  },
  {
   "cell_type": "markdown",
   "metadata": {},
   "source": [
    "The plot above is informative, but it doesn't really get at the crical question, which is the number of molecules we would need to test if found a hit with a specific mass. For instance, if we found a hit with mass 425 we would want to test every molecule with mass between 424 and 426 (assuming a resolution of 1 AMU).  Fortunately, it's easy to get at this value all we have to do is divide the number of molecules in the mixture by the number of unique masses. "
   ]
  },
  {
   "cell_type": "code",
   "execution_count": 20,
   "metadata": {},
   "outputs": [],
   "source": [
    "combo_df['Opt_Search'] = combo_df['Size_Opt']/combo_df['Min_Opt']\n",
    "combo_df['Plate_Search'] = combo_df['Size_Plate']/combo_df['Min_Plate']"
   ]
  },
  {
   "cell_type": "markdown",
   "metadata": {},
   "source": [
    "We can now use a procedure similar to the one we used above to combine and melt the dataframes and generate the plot. Again, the differences are small. For a mixture size of 800, we would have to test 4 compounds per hit with the optimzal approach.  For the plate based approach we would have to test 5 compounds (we can't test 4.5 compounds).  "
   ]
  },
  {
   "cell_type": "code",
   "execution_count": 21,
   "metadata": {},
   "outputs": [
    {
     "data": {
      "image/png": "[encoded data removed]",
      "text/plain": [
       "<Figure size 864x720 with 1 Axes>"
      ]
     },
     "metadata": {},
     "output_type": "display_data"
    }
   ],
   "source": [
    "melt_df = combo_df[[\"Size_Opt\",\"Opt_Search\",\"Plate_Search\"]].melt(id_vars=\"Size_Opt\")\n",
    "ax = sns.lineplot(x=melt_df.Size_Opt,y=melt_df.value,hue=melt_df.variable)\n",
    "ax.set(xlabel=\"Mixture size\",ylabel=\"Number of Compounds to Test\")\n",
    "_ = plt.legend(title=\"\",loc=\"best\",labels=['Optimal', 'Plate Based'])"
   ]
  },
  {
   "cell_type": "markdown",
   "metadata": {},
   "source": [
    "Go back to the top of this notebook, change the resolution to 0.1 and see how this impacts the results. "
   ]
  },
  {
   "cell_type": "code",
   "execution_count": null,
   "metadata": {},
   "outputs": [],
   "source": []
  }
 ],
 "metadata": {
  "kernelspec": {
   "display_name": "Python 3",
   "language": "python",
   "name": "python3"
  },
  "language_info": {
   "codemirror_mode": {
    "name": "ipython",
    "version": 3
   },
   "file_extension": ".py",
   "mimetype": "text/x-python",
   "name": "python",
   "nbconvert_exporter": "python",
   "pygments_lexer": "ipython3",
   "version": "3.6.8"
  }
 },
 "nbformat": 4,
 "nbformat_minor": 2
}
